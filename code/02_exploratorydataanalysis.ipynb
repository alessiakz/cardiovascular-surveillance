{
 "cells": [
  {
   "cell_type": "code",
   "execution_count": null,
   "metadata": {},
   "outputs": [],
   "source": [
    "#02_exploratorydataanalysis.ipynb\n",
    "    #this script is used to conduct exploratory data analyses of the data\n",
    "#Created: 07.11.2024\n",
    "#By: Alessia Kettlitz\n",
    "\n",
    "#importing libraries\n",
    "import pandas as pd, numpy as np, matplotlib as plt, seaborn as sns, pyprojroot as root\n",
    "\n",
    "from pyprojroot.here import here #importing here function for relative file paths\n",
    "\n",
    "from joblib import dump, load #for saving dataframes"
   ]
  }
 ],
 "metadata": {
  "language_info": {
   "name": "python"
  }
 },
 "nbformat": 4,
 "nbformat_minor": 2
}
